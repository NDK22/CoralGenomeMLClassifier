{
  "cells": [
    {
      "cell_type": "markdown",
      "metadata": {},
      "source": [
        "Bioinformatics Final Project Team 12"
      ]
    },
    {
      "cell_type": "code",
      "execution_count": 1,
      "metadata": {
        "colab": {
          "base_uri": "https://localhost:8080/"
        },
        "id": "9nKkhWiTUuHX",
        "outputId": "da96b6d6-9727-456b-ebde-a0fd31d28c0b"
      },
      "outputs": [
        {
          "name": "stderr",
          "output_type": "stream",
          "text": [
            "c:\\Users\\karav\\AppData\\Local\\Programs\\Python\\Python39\\lib\\site-packages\\numpy\\_distributor_init.py:30: UserWarning: loaded more than 1 DLL from .libs:\n",
            "c:\\Users\\karav\\AppData\\Local\\Programs\\Python\\Python39\\lib\\site-packages\\numpy\\.libs\\libopenblas64__v0.3.21-gcc_10_3_0.dll\n",
            "c:\\Users\\karav\\AppData\\Local\\Programs\\Python\\Python39\\lib\\site-packages\\numpy\\.libs\\libopenblas64__v0.3.23-246-g3d31191b-gcc_10_3_0.dll\n",
            "  warnings.warn(\"loaded more than 1 DLL from .libs:\"\n"
          ]
        }
      ],
      "source": [
        "import pandas as pd\n",
        "from sklearn.cross_decomposition import PLSRegression\n",
        "from sklearn.model_selection import train_test_split,cross_val_score, cross_val_predict\n",
        "from sklearn.linear_model import LogisticRegression\n",
        "from sklearn.discriminant_analysis import LinearDiscriminantAnalysis, QuadraticDiscriminantAnalysis\n",
        "from sklearn.svm import SVC\n",
        "from sklearn.cross_decomposition import PLSRegression\n",
        "from sklearn.metrics import accuracy_score\n",
        "from sklearn.decomposition import PCA\n",
        "from sklearn.metrics import confusion_matrix, classification_report\n",
        "import matplotlib.pyplot as plt\n",
        "import seaborn as sns\n",
        "from sklearn.model_selection import GridSearchCV\n",
        "import numpy as np\n",
        "from scipy.stats import pearsonr\n",
        "from sklearn.feature_selection import SelectKBest, f_classif"
      ]
    },
    {
      "cell_type": "markdown",
      "metadata": {
        "id": "rtCPc7wSUuHY"
      },
      "source": [
        "Data Preparation"
      ]
    },
    {
      "cell_type": "code",
      "execution_count": 2,
      "metadata": {
        "colab": {
          "base_uri": "https://localhost:8080/"
        },
        "id": "9WJzdhaGUuHZ",
        "outputId": "4ea904f0-67d0-4c37-e816-f87ed6781dfd"
      },
      "outputs": [],
      "source": [
        "raw_counts = pd.read_csv(r'D:\\Personal\\Academics\\UTA\\3rd semester\\Bioinformatics\\Project\\normalized_gene_counts_twenty_subset.csv', index_col=0)\n",
        "raw_counts = raw_counts.T\n",
        "metadata_file = r\"D:\\Personal\\Academics\\UTA\\3rd semester\\Bioinformatics\\Project\\metadata.csv\"\n",
        "metadata = pd.read_csv(metadata_file, sep=',')\n",
        "df = pd.merge(raw_counts, metadata, left_index=True, right_on='Sample_ID')\n",
        "df = df.drop(['Sample_ID','Clade', 'Dominant' ],axis=1)\n",
        "df['Host'] = (df['Host']=='OANN').astype(int)\n",
        "y = df['Host']\n",
        "X = df.drop(['Host'],axis=1)\n",
        "X_train, X_test, y_train, y_test = train_test_split(X, y, test_size=0.2,stratify=y, random_state=41)"
      ]
    },
    {
      "cell_type": "markdown",
      "metadata": {},
      "source": [
        "SVM : The Best Performing Algorithm in our project"
      ]
    },
    {
      "cell_type": "code",
      "execution_count": 3,
      "metadata": {},
      "outputs": [
        {
          "name": "stdout",
          "output_type": "stream",
          "text": [
            "No of Components: 13\n",
            "Support Vector Machine Test Set Accuracy: 0.8888888888888888\n",
            "Error Rate: 0.1111\n",
            "Top 2 Significant Genes: ['C0H419', 'O05496']\n",
            "Classification Report:\n",
            "              precision    recall  f1-score   support\n",
            "\n",
            "           0       0.88      1.00      0.93         7\n",
            "           1       1.00      0.50      0.67         2\n",
            "\n",
            "    accuracy                           0.89         9\n",
            "   macro avg       0.94      0.75      0.80         9\n",
            "weighted avg       0.90      0.89      0.87         9\n",
            "\n"
          ]
        },
        {
          "data": {
            "image/png": "[encoded data removed]",
            "text/plain": [
              "<Figure size 400x200 with 1 Axes>"
            ]
          },
          "metadata": {},
          "output_type": "display_data"
        }
      ],
      "source": [
        "svm = SVC(kernel='linear',degree=3)\n",
        "cv_scores = cross_val_score(svm, X_train, y_train, cv=5, scoring='accuracy')\n",
        "svm.fit(X_train, y_train)\n",
        "print(\"No of Components:\", svm.support_vectors_.shape[0])\n",
        "coefficients = svm.coef_[0]\n",
        "gene_importance = sorted(zip(X_train.columns, coefficients), key=lambda x: abs(x[1]), reverse=True)\n",
        "top_genes = gene_importance[:2]\n",
        "y_pred = svm.predict(X_test)\n",
        "test_accuracy = accuracy_score(y_test, y_pred)\n",
        "print(\"Support Vector Machine Test Set Accuracy:\", test_accuracy)\n",
        "conf_matrix = confusion_matrix(y_test, y_pred)\n",
        "error_rate = (conf_matrix[0, 1] + conf_matrix[1, 0]) / conf_matrix.sum()\n",
        "print(f\"Error Rate: {error_rate:.4f}\")\n",
        "print(\"Top 2 Significant Genes:\", [f\"{gene}\" for gene, coefficient in top_genes])\n",
        "print(\"Classification Report:\")\n",
        "print(classification_report(y_test, y_pred))\n",
        "plt.figure(figsize=(4, 2))\n",
        "sns.heatmap(conf_matrix, annot=True, fmt=\"d\", cmap=\"Blues\", cbar=False)\n",
        "plt.xlabel('Predicted')\n",
        "plt.ylabel('True')\n",
        "plt.title('Confusion Matrix for SVM')\n",
        "plt.show()\n",
        "gene_importance_df = pd.DataFrame(gene_importance, columns=['Gene', 'Coefficient'])\n",
        "gene_importance_sorted = gene_importance_df.iloc[(-gene_importance_df['Coefficient'].abs()).argsort()]\n",
        "top_percentage = 0.5\n",
        "num_genes = int(len(gene_importance_sorted) * top_percentage)\n",
        "top_genes = gene_importance_sorted.head(num_genes)\n",
        "top_genes.to_csv('top_genes_svm.csv', index=False)"
      ]
    },
    {
      "cell_type": "markdown",
      "metadata": {},
      "source": [
        "How Many Genes/Components Are Obtained/Required Significant Results?\n",
        " 13\n",
        "\n",
        "What is the Error Rate of These Algorithms?\n",
        " 0.1111\n",
        "\n",
        "What are two genes that were signficiantly correlated to your problem?\n",
        "To evaluate the biological relevance of the Uncharacterized UDP-glucosyltransferase YdhE and Biotin/Lipoyl Attachment Protein from Bacillus subtilis in relation to Cladacopium and its host organism, we need to consider their potential functions and how these might relate to the symbiotic relationship:\n",
        "\n",
        "1. *Uncharacterized UDP-Glucosyltransferase YdhE - Bacillus subtilis*:\n",
        "   - *Function*: While specific functions are not detailed, UDP-glucosyltransferases generally play roles in the modification of molecules by adding glucose units. This can be important in various biological processes including metabolism, detoxification, and cellular signaling.\n",
        "   - *Relevance to Cladacopium*: Although the exact function in Bacillus subtilis is not characterized, the general role of glucosyltransferases in metabolism could be relevant. Metabolic processes are crucial in the symbiotic relationship between Cladacopium and its coral host, especially in terms of nutrient exchange and adaptation to environmental stressors.\n",
        "\n",
        "2. *Biotin/Lipoyl Attachment Protein - Bacillus subtilis*:\n",
        "   - *Function*: This protein is involved in the attachment of biotin or lipoic acid to enzymes that require these molecules as cofactors. Biotin and lipoic acid play important roles in critical metabolic pathways.\n",
        "   - *Relevance to Cladacopium*: Enzymatic cofactors are vital for the functioning of many metabolic pathways. In the context of Cladacopium, understanding how essential cofactors are attached to enzymes can provide insights into the metabolic efficiency and adaptability of the symbiotic algae, especially under varying environmental conditions.\n",
        "\n",
        "What can we infer about this dataset based on these results?\n",
        "- *Comparative Metabolic Studies*: Studying these proteins in bacteria can offer insights into fundamental metabolic processes that might also be present in Cladacopium or its host, albeit with species-specific differences.\n",
        "- *Understanding Symbiotic Interactions*: The efficiency of metabolic processes, such as those potentially influenced by these proteins, is crucial for the health and stability of the Cladacopium-coral symbiosis. Efficient nutrient use and metabolic flexibility can be key to the resilience of the symbiotic relationship.\n",
        "- *Support Vector Machine (SVM) Analysis Context*: The SVM algorithm identified these proteins as significant, suggesting they might have distinctive roles or features within the dataset. This could indicate that the metabolic processes they are involved in are important in differentiating between certain biological states or conditions relevant to Cladacopium.\n",
        "\n",
        "In summary, while the direct relevance of these specific proteins from Bacillus subtilis to Cladacopium and its host might not be immediately clear, the metabolic processes they are involved in are fundamental and could provide valuable comparative insights into the metabolic aspects of the Cladacopium-host symbiosis. Further research specifically targeting Cladacopium and its host is required to establish more direct connections.\n",
        "\n"
      ]
    },
    {
      "cell_type": "markdown",
      "metadata": {
        "id": "7HZlYDfAUuHa"
      },
      "source": [
        "Logistic Regression\n",
        "\n"
      ]
    },
    {
      "cell_type": "code",
      "execution_count": 4,
      "metadata": {
        "colab": {
          "base_uri": "https://localhost:8080/",
          "height": 568
        },
        "id": "wgV6zofJUuHa",
        "outputId": "7307a01e-691e-4e9b-c40c-f44f88131573"
      },
      "outputs": [
        {
          "name": "stdout",
          "output_type": "stream",
          "text": [
            "Number of Componenets: 20\n",
            "Logistic Regression Test Set Accuracy: 0.8888888888888888\n",
            "Error Rate: 0.1111\n",
            "Top 2 Features:\n",
            "12    C0H419\n",
            "8     Q27960\n",
            "Name: Feature, dtype: object\n",
            "Classification Report:\n",
            "              precision    recall  f1-score   support\n",
            "\n",
            "           0       0.88      1.00      0.93         7\n",
            "           1       1.00      0.50      0.67         2\n",
            "\n",
            "    accuracy                           0.89         9\n",
            "   macro avg       0.94      0.75      0.80         9\n",
            "weighted avg       0.90      0.89      0.87         9\n",
            "\n"
          ]
        },
        {
          "data": {
            "image/png": "[encoded data removed]",
            "text/plain": [
              "<Figure size 400x200 with 1 Axes>"
            ]
          },
          "metadata": {},
          "output_type": "display_data"
        }
      ],
      "source": [
        "(print(\"Number of Componenets: 20\"))\n",
        "lr = LogisticRegression(max_iter=1000,penalty='l2')\n",
        "k = 10  # Adjust this value based on the desired number of top features\n",
        "selector = SelectKBest(score_func=f_classif, k=10)\n",
        "X_train_selected = selector.fit_transform(X_train, y_train)\n",
        "X_test_selected = selector.transform(X_test)\n",
        "cv_scores = cross_val_score(lr, X_train, y_train, cv=5, scoring='accuracy')\n",
        "lr.fit(X_train, y_train)\n",
        "y_pred = lr.predict(X_test)\n",
        "test_accuracy = accuracy_score(y_test, y_pred)\n",
        "print(\"Logistic Regression Test Set Accuracy:\", test_accuracy)\n",
        "lr.fit(X_train, y_train)\n",
        "coefficients = lr.coef_[0]\n",
        "feature_names = X_train.columns\n",
        "coefficients_df = pd.DataFrame({'Feature': feature_names, 'Coefficient': coefficients})\n",
        "coefficients_df['Absolute Coefficient'] = coefficients_df['Coefficient'].abs()\n",
        "sorted_coefficients = coefficients_df.sort_values(by='Absolute Coefficient', ascending=False)\n",
        "top_features = sorted_coefficients.head(2)\n",
        "conf_matrix = confusion_matrix(y_test, y_pred)\n",
        "error_rate = (conf_matrix[0, 1] + conf_matrix[1, 0]) / conf_matrix.sum()\n",
        "print(f\"Error Rate: {error_rate:.4f}\")\n",
        "print(\"Top 2 Features:\")\n",
        "print(top_features['Feature'])\n",
        "print(\"Classification Report:\")\n",
        "print(classification_report(y_test, y_pred))\n",
        "plt.figure(figsize=(4, 2))\n",
        "sns.heatmap(conf_matrix, annot=True, fmt=\"d\", cmap=\"Blues\", cbar=False)\n",
        "plt.xlabel('Predicted')\n",
        "plt.ylabel('True')\n",
        "plt.title('Confusion Matrix for Logistic')\n",
        "plt.show()\n"
      ]
    },
    {
      "cell_type": "markdown",
      "metadata": {
        "id": "2ngKz3YwfI0X"
      },
      "source": [
        "How Many Genes/Components Are Obtained/Required Significant Results?\n",
        " 20\n",
        "\n",
        "What is the Error Rate of These Algorithms?\n",
        " 0.1111\n",
        "  \n",
        "What are two genes that were signficiantly correlated to your problem?\n",
        "To assess the biological relevance of the Biotin/Lipoyl Attachment Protein from Bacillus subtilis and the Sodium-dependent Phosphate Transport Protein 2B (NPT2B) from Bos taurus (Bovine) in relation to Cladacopium and its host organism, let's consider their functions and potential implications in a symbiotic context:\n",
        "\n",
        "1. *Biotin/Lipoyl Attachment Protein - Bacillus subtilis*:\n",
        "   - *Function*: This protein is involved in the attachment of biotin or lipoic acid to enzymes that require these molecules as cofactors. Biotin and lipoic acid are important for the functioning of key enzymes in metabolic pathways.\n",
        "   - *Relevance to Cladacopium*: The attachment of biotin or lipoic acid is a crucial step in various metabolic processes, including those involved in energy production and carbon fixation. In Cladacopium, similar mechanisms might be essential for the efficient functioning of metabolic enzymes, particularly in the context of nutrient exchange and energy metabolism within the symbiotic relationship with its coral host.\n",
        "\n",
        "2. *Sodium-Dependent Phosphate Transport Protein 2B (NPT2B) - Bos taurus*:\n",
        "   - *Function*: Involved in the active transport of phosphate into cells, which is essential for many biological processes including energy metabolism and the synthesis of nucleic acids and cell membranes.\n",
        "   - *Relevance to Cladacopium*: Phosphate is a vital nutrient for all living organisms, including Cladacopium. Efficient phosphate uptake is crucial for Cladacopium, especially in the nutrient-limited environments typical of coral reefs. Understanding phosphate transport mechanisms can provide insights into how Cladacopium manages its nutrient requirements and contributes to the nutrient cycling within the coral reef ecosystem.\n",
        "\n",
        "What can we infer about this dataset based on these results?\n",
        "- *Metabolic and Nutrient Transport Processes*: Both proteins are involved in fundamental aspects of cellular metabolism and nutrient transport. Understanding these processes in different organisms can offer insights into the metabolic efficiency and nutrient acquisition strategies of Cladacopium in its symbiotic relationship.\n",
        "- *Logistic Regression Analysis Context*: The fact that these proteins were highlighted by logistic regression suggests their roles or the processes they are involved in might be significant in differentiating certain physiological or environmental conditions, potentially relevant to Cladacopium's adaptation and survival in symbiosis.\n",
        "- *Comparative Biology and Symbiotic Dynamics*: Studying these proteins in bacteria and mammals can provide comparative insights that might be indirectly applicable to understanding similar mechanisms in Cladacopium and its coral host.\n",
        "\n",
        "In summary, while the direct relevance of these specific proteins to Cladacopium and its host might not be immediately clear, their involvement in fundamental biological processes like biotin/lipoyl attachment and phosphate transport is universally important. Therefore, they can provide valuable comparative insights into the metabolic and nutrient acquisition strategies that might be at play in Cladacopium within its symbiotic relationship. Further research specifically targeting Cladacopium and its host is needed for more direct connections and understanding.\n"
      ]
    },
    {
      "cell_type": "markdown",
      "metadata": {
        "id": "GHQC6XRMUuHb"
      },
      "source": [
        "LDA"
      ]
    },
    {
      "cell_type": "code",
      "execution_count": 5,
      "metadata": {
        "colab": {
          "base_uri": "https://localhost:8080/",
          "height": 499
        },
        "id": "wGfYnCX8vcXW",
        "outputId": "6b03dc3b-8f92-4cbd-d57a-e5efd1fd7aa7"
      },
      "outputs": [
        {
          "name": "stdout",
          "output_type": "stream",
          "text": [
            "Error Rate: 0.4444\n",
            "Number of Components: 5\n",
            "Top 2 significant features: ['Q9UTR6', 'Q11208']\n",
            "Classification Report:\n",
            "              precision    recall  f1-score   support\n",
            "\n",
            "           0       0.71      0.71      0.71         7\n",
            "           1       0.00      0.00      0.00         2\n",
            "\n",
            "    accuracy                           0.56         9\n",
            "   macro avg       0.36      0.36      0.36         9\n",
            "weighted avg       0.56      0.56      0.56         9\n",
            "\n"
          ]
        },
        {
          "data": {
            "image/png": "[encoded data removed]",
            "text/plain": [
              "<Figure size 400x200 with 1 Axes>"
            ]
          },
          "metadata": {},
          "output_type": "display_data"
        }
      ],
      "source": [
        "lda_model = LinearDiscriminantAnalysis(solver='svd')\n",
        "cross_val_accuracy = cross_val_score(lda_model, X_train, y_train, cv=5, scoring='accuracy')\n",
        "lda_model.fit(X_train, y_train)\n",
        "y_pred = lda_model.predict(X_test)\n",
        "conf_matrix = confusion_matrix(y_test, y_pred)\n",
        "abs_coefficients = abs(lda_model.coef_[0])\n",
        "features = X_train.columns\n",
        "coeff_mean = np.mean(abs_coefficients)\n",
        "coeff_std = np.std(abs_coefficients)\n",
        "importance_threshold = coeff_mean + coeff_std\n",
        "feature_importance = list(zip(features, abs_coefficients))\n",
        "sorted_feature_importance = sorted(feature_importance, key=lambda x: x[1], reverse=True)\n",
        "significant_features = [feature[0] for feature in sorted_feature_importance if feature[1] > importance_threshold]\n",
        "error_rate = (conf_matrix[0, 1] + conf_matrix[1, 0]) / conf_matrix.sum()\n",
        "print(f\"Error Rate: {error_rate:.4f}\")\n",
        "print(f\"Number of Components: {len(significant_features)}\")\n",
        "print(\"Top 2 significant features:\", significant_features[:2])\n",
        "print(\"Classification Report:\")\n",
        "print(classification_report(y_test, y_pred))\n",
        "plt.figure(figsize=(4, 2))\n",
        "sns.heatmap(conf_matrix, annot=True, fmt=\"d\", cmap=\"Blues\", cbar=False)\n",
        "plt.xlabel('Predicted')\n",
        "plt.ylabel('True')\n",
        "plt.title('Confusion Matrix for LDA')\n",
        "plt.show()\n"
      ]
    },
    {
      "cell_type": "markdown",
      "metadata": {
        "id": "F_tKs07Qfzzz"
      },
      "source": [
        "How Many Genes/Components Are Obtained/Required Significant Results?\n",
        "5\n",
        "\n",
        "What is the Error Rate of These Algorithms?\n",
        " 0.444\n",
        "  \n",
        "What are two genes that were signficiantly correlated to your problem?\n",
        "The biological relevance of Initiation-specific alpha-1,6-mannosyltransferase from Schizosaccharomyces pombe (Fission yeast) and Poly [ADP-ribose] polymerase from Sarcophaga peregrina (Flesh fly) in relation to Cladacopium and its host organism can be assessed based on the functions of these proteins:\n",
        "\n",
        "1. *Initiation-Specific Alpha-1,6-Mannosyltransferase - Schizosaccharomyces pombe*:\n",
        "   - *Function*: Involved in the elongation of asparagine-linked oligosaccharides and in adding mannose to the core oligosaccharide from the ER. It is critical for the synthesis of mannose linkages on yeast secretory proteins.\n",
        "   - *Relevance to Cladacopium*: Glycosylation, the process in which this enzyme is involved, is a fundamental post-translational modification in eukaryotes, affecting protein folding, stability, and function. In Cladacopium, similar glycosylation processes could be essential for the proper functioning of proteins, particularly those involved in photosynthesis and interaction with the coral host.\n",
        "\n",
        "2. *Poly [ADP-ribose] Polymerase - Sarcophaga peregrina*:\n",
        "   - *Function*: Mediates poly-ADP-ribosylation of proteins and is important in DNA repair. It adds ADP-ribosyl groups to target proteins, a modification involved in various cellular processes including DNA repair and signal transduction.\n",
        "   - *Relevance to Cladacopium*: DNA repair mechanisms are crucial for all organisms, especially for those like Cladacopium that are exposed to intense UV radiation in shallow marine environments. Understanding the role and mechanisms of such enzymes can provide insights into the DNA repair and stress response processes in Cladacopium.\n",
        "\n",
        "What can we infer about this dataset based on these results?\n",
        "- *Fundamental Cellular Processes*: Both proteins are involved in crucial cellular processes (glycosylation and DNA repair) that are likely to be conserved across diverse eukaryotes, including Cladacopium and its host.\n",
        "- *Comparative Biology and Evolutionary Insights*: Studying these proteins in yeast and flies can offer comparative insights into similar mechanisms in Cladacopium, potentially revealing evolutionary conserved strategies in glycosylation and DNA repair.\n",
        "- *Linear Discriminant Analysis (LDA) Context*: LDA, used in this case, is effective in distinguishing between classes based on linear combinations of features. The identification of these proteins suggests that the processes they are involved in are important in differentiating certain biological states or conditions, possibly relevant to Cladacopium’s physiology or its symbiotic relationship.\n",
        "\n",
        "In summary, while the direct relevance of these specific proteins from yeast and flesh fly to Cladacopium and its host might not be immediately evident, the fundamental biological processes they are involved in are likely to be relevant. These processes, glycosylation and DNA repair, are essential for the health and functioning of all eukaryotic cells, including those in symbiotic relationships like Cladacopium and its coral host. Further research focused on Cladacopium and its host is needed to establish more direct connections.\n"
      ]
    },
    {
      "cell_type": "markdown",
      "metadata": {
        "id": "YRlScDDRUuHc"
      },
      "source": [
        "QDA"
      ]
    },
    {
      "cell_type": "code",
      "execution_count": 6,
      "metadata": {
        "colab": {
          "base_uri": "https://localhost:8080/",
          "height": 534
        },
        "id": "NEsHCHryUuHc",
        "outputId": "1468b7fa-d50f-4915-9be7-a1202c84648a"
      },
      "outputs": [
        {
          "name": "stdout",
          "output_type": "stream",
          "text": [
            "Number of features: 20\n",
            "Test Set Accuracy: 0.7778\n",
            "Error Rate: 0.2222\n",
            "Top 2 positively correlated genes:\n",
            "Index(['K9NVA6', 'Q9H0C1'], dtype='object')\n",
            "Classification Report:\n",
            "              precision    recall  f1-score   support\n",
            "\n",
            "           0       0.78      1.00      0.88         7\n",
            "           1       0.00      0.00      0.00         2\n",
            "\n",
            "    accuracy                           0.78         9\n",
            "   macro avg       0.39      0.50      0.44         9\n",
            "weighted avg       0.60      0.78      0.68         9\n",
            "\n"
          ]
        },
        {
          "data": {
            "image/png": "[encoded data removed]",
            "text/plain": [
              "<Figure size 400x200 with 1 Axes>"
            ]
          },
          "metadata": {},
          "output_type": "display_data"
        }
      ],
      "source": [
        "import warnings\n",
        "from sklearn.exceptions import FitFailedWarning\n",
        "warnings.filterwarnings('ignore', category=FitFailedWarning)\n",
        "warnings.filterwarnings('ignore')\n",
        "pca = PCA()\n",
        "X_train_pca = pca.fit_transform(X_train)\n",
        "cumulative_explained_variance = np.cumsum(pca.explained_variance_ratio_)\n",
        "n_components = np.argmax(cumulative_explained_variance >= 0.65) + 1\n",
        "n_components = min(X_train.shape[0], X_train.shape[1])\n",
        "pca = PCA(n_components=n_components)\n",
        "X_train_pca = pca.fit_transform(X_train)\n",
        "X_test_pca = pca.transform(X_test)\n",
        "print(\"Number of features:\", n_components)\n",
        "qda = QuadraticDiscriminantAnalysis()\n",
        "cv_scores = cross_val_score(qda, X_train_pca, y_train, cv=5, scoring='accuracy')\n",
        "qda.fit(X_train_pca, y_train)\n",
        "y_pred = qda.predict(X_test_pca)\n",
        "test_accuracy = accuracy_score(y_test, y_pred)\n",
        "print(\"Test Set Accuracy:\", round(test_accuracy,4))\n",
        "error_rate = 1 - test_accuracy\n",
        "print(\"Error Rate:\", round(error_rate,4))\n",
        "correlation_values = df.drop('Host', axis=1).apply(lambda gene: pearsonr(gene, df['Host'])[0])\n",
        "top_pos_correlated_genes = correlation_values.abs().nlargest(2).index\n",
        "top_neg_correlated_genes = correlation_values.abs().nsmallest(2).index\n",
        "print(\"Top 2 positively correlated genes:\")\n",
        "print(top_pos_correlated_genes)\n",
        "most_influential_genes = pd.DataFrame({'Gene': X.columns, 'Weight': pca.components_[0]})\n",
        "most_influential_genes = most_influential_genes.sort_values(by='Weight', ascending=False)\n",
        "conf_matrix = confusion_matrix(y_test, y_pred)\n",
        "print(\"Classification Report:\")\n",
        "print(classification_report(y_test, y_pred))\n",
        "plt.figure(figsize=(4, 2))\n",
        "sns.heatmap(conf_matrix, annot=True, fmt=\"d\", cmap=\"Blues\", cbar=False)\n",
        "plt.xlabel('Predicted')\n",
        "plt.ylabel('True')\n",
        "plt.title('Confusion Matrix for QDA')\n",
        "plt.show()\n"
      ]
    },
    {
      "cell_type": "markdown",
      "metadata": {
        "id": "x5eol3KegBJ-"
      },
      "source": [
        "How Many Genes/Components Are Obtained/Required Significant Results?\n",
        " 20\n",
        "\n",
        "What is the Error Rate of These Algorithms?\n",
        " 0.7778\n",
        "  \n",
        "What are two genes that were signficiantly correlated to your problem?\n",
        "To evaluate the biological relevance of Dinoflagellate Viral Nucleoprotein 5 (DVNP5) from Hematodinium sp and Zinc Finger MYND Domain-Containing Protein 12 (ZMYND12) from Homo sapiens in relation to Cladacopium and its host organism, we need to consider their functions and how these might relate to the symbiotic relationship:\n",
        "\n",
        "1. *Dinoflagellate Viral Nucleoprotein 5 (DVNP5) - Hematodinium sp*:\n",
        "   - *Function*: This is a DNA-binding protein that may compact DNA into chromatin, similarly to histones.\n",
        "   - *Relevance to Cladacopium*: Hematodinium is a marine dinoflagellate, although not typically in a symbiotic relationship like Cladacopium. The function of DVNP5 in DNA compaction could be relevant for understanding chromatin dynamics and gene regulation in Cladacopium. Given the unique features of dinoflagellate genomes, insights into DNA compaction mechanisms in related species could be informative.\n",
        "\n",
        "2. *Zinc Finger MYND Domain-Containing Protein 12 (ZMYND12) - Homo sapiens*:\n",
        "   - *Function*: Zinc finger proteins are typically involved in DNA binding and gene regulation. The MYND domain suggests a role in protein-protein interactions and possibly in transcriptional regulation.\n",
        "   - *Relevance to Cladacopium*: Gene regulation is a fundamental process in all eukaryotic organisms. Understanding how it works in humans can provide general insights into possible mechanisms of gene regulation in Cladacopium. This can be particularly relevant in the context of the symbiotic relationship, where regulation of gene expression in response to environmental changes is crucial.\n",
        "\n",
        "What can we infer about this dataset based on these results?\n",
        "- *Comparative Biology*: Studying these proteins in Hematodinium and humans can provide comparative insights into fundamental biological processes like DNA compaction and gene regulation. These insights might be indirectly applicable to Cladacopium, especially in understanding how it adapts to and interacts with its host.\n",
        "- *Quadratic Discriminant Analysis (QDA) Context*: QDA identifies features that distinguish between predefined groups or conditions. The fact that these proteins were highlighted suggests that similar mechanisms or proteins in Cladacopium might be important in differentiating various physiological or environmental conditions relevant to the symbiosis.\n",
        "- *Gene Regulation and Chromatin Dynamics*: Both proteins are associated with crucial aspects of cellular regulation and genome organization. Understanding these processes is key to deciphering the physiological and environmental responses of Cladacopium in its symbiotic relationship.\n",
        "\n",
        "In summary, while the direct relevance of DVNP5 and ZMYND12 to Cladacopium and its host might not be immediately clear, the processes they are involved in are fundamental to cellular biology. Therefore, they can provide valuable comparative insights into the genetic and chromatin-based mechanisms that might be at play in Cladacopium within its symbiotic relationship. Further specific research targeting Cladacopium and its host is necessary for more direct connections and understanding.\n"
      ]
    },
    {
      "cell_type": "code",
      "execution_count": 7,
      "metadata": {},
      "outputs": [
        {
          "name": "stdout",
          "output_type": "stream",
          "text": [
            "Number of components: 7\n",
            "Partial Least Square Test Set Accuracy: 0.8888888888888888\n",
            "Error Rate for Partial Least Square : 0.11111111111111116\n",
            "Top Genes for PLS Method:  Index(['K9NVA6', 'P58905'], dtype='object')\n",
            "Classification Report:\n",
            "              precision    recall  f1-score   support\n",
            "\n",
            "           0       0.88      1.00      0.93         7\n",
            "           1       1.00      0.50      0.67         2\n",
            "\n",
            "    accuracy                           0.89         9\n",
            "   macro avg       0.94      0.75      0.80         9\n",
            "weighted avg       0.90      0.89      0.87         9\n",
            "\n"
          ]
        },
        {
          "data": {
            "image/png": "[encoded data removed]",
            "text/plain": [
              "<Figure size 400x200 with 1 Axes>"
            ]
          },
          "metadata": {},
          "output_type": "display_data"
        }
      ],
      "source": [
        "pls = PLSRegression(n_components=7)\n",
        "print(\"Number of components: 7\")\n",
        "y_pred_cv = cross_val_predict(pls, X_train, y_train, cv=5)\n",
        "threshold = 0.5\n",
        "y_pred_cv = (y_pred_cv > threshold).astype(int)\n",
        "cv_accuracy = accuracy_score(y_train, y_pred_cv)\n",
        "pls.fit(X_train, y_train)\n",
        "y_pred = pls.predict(X_test)\n",
        "threshold = 0.5\n",
        "y_pred = (y_pred > threshold).astype(int)\n",
        "test_accuracy = accuracy_score(y_test, y_pred)\n",
        "print(\"Partial Least Square Test Set Accuracy:\", test_accuracy)\n",
        "error_rate = 1 - test_accuracy\n",
        "print(f\"Error Rate for Partial Least Square : {error_rate}\")\n",
        "loadings_component_1 = pls.x_weights_[:, 0]\n",
        "top_gene_indices = loadings_component_1.argsort()[-2:][::-1]\n",
        "top_genes = X_train.columns[top_gene_indices]\n",
        "print(\"Top Genes for PLS Method: \", top_genes)\n",
        "print(\"Classification Report:\")\n",
        "print(classification_report(y_test, y_pred))\n",
        "conf_matrix = confusion_matrix(y_test, y_pred)\n",
        "plt.figure(figsize=(4, 2))\n",
        "sns.heatmap(conf_matrix, annot=True, fmt=\"d\", cmap=\"Blues\", cbar=False)\n",
        "plt.xlabel('Predicted')\n",
        "plt.ylabel('True')\n",
        "plt.title('Confusion Matrix for PLS')\n",
        "plt.show()\n"
      ]
    },
    {
      "cell_type": "markdown",
      "metadata": {},
      "source": [
        "How Many Genes/Components Are Obtained/Required Significant Results?\n",
        " 7\n",
        "\n",
        "What is the Error Rate of These Algorithms?\n",
        " 0.1111\n",
        "  \n",
        "What are two genes that were signficiantly correlated to your problem?\n",
        "K9NVA6 P58905\n",
        "To determine the biological relevance of Dinoflagellate Viral Nucleoprotein 5 (DVNP5) from Hematodinium sp and Ammonium Transporter 1 Member 1 (AMT1-1) from Solanum lycopersicum (Tomato) in relation to Cladacopium and its host organism, we should consider the functions of these proteins and the nature of Cladacopium symbiosis:\n",
        "\n",
        "1. *Dinoflagellate Viral Nucleoprotein 5 (DVNP5) - Hematodinium sp*:\n",
        "   - *Function*: As a DNA-binding protein that may compact DNA into chromatin, similar to histones.\n",
        "   - *Relevance to Cladacopium*: Hematodinium sp. is a marine dinoflagellate, and although it has different ecological roles compared to Cladacopium, understanding DNA compaction mechanisms in one dinoflagellate can offer insights into genomic organization in another. This could be particularly relevant given the unique genomic features of many dinoflagellates, including large genome sizes and atypical chromatin organization.\n",
        "\n",
        "2. *Ammonium Transporter 1 Member 1 (AMT1-1) - Solanum lycopersicum*:\n",
        "   - *Function*: Involved in ammonium uptake, a critical nutrient for plants.\n",
        "   - *Relevance to Cladacopium*: Ammonium transport is essential for all organisms, including marine algae like Cladacopium. Efficient ammonium uptake is crucial for nitrogen metabolism, which is a key component of the nutrient exchange in the symbiotic relationship between Cladacopium and its coral host. Understanding how ammonium transport works in plants might provide analogies or contrasts to similar processes in marine symbiotic systems.\n",
        "\n",
        "What can we infer about this dataset based on these results?\n",
        "- *Comparative Biology*: Studying these proteins in other organisms can provide comparative insights into fundamental biological processes (like DNA packaging in DVNP5 and nutrient transport in AMT1-1) that could be relevant to Cladacopium.\n",
        "- *Symbiotic Relationship Dynamics*: For Cladacopium, efficient nutrient uptake and genomic stability are crucial for maintaining a healthy symbiotic relationship with its host. The mechanisms of nutrient transport and DNA compaction, while studied in other organisms, can offer indirect insights into these processes in Cladacopium.\n",
        "- *PLS Algorithm Context*: The Partial Least Squares algorithm identifies these proteins based on their correlation with certain outcomes or variables in the study. This suggests that the biological processes they are involved in might be relevant to the physiological or environmental conditions being studied in relation to Cladacopium.\n",
        "\n",
        "In summary, while these proteins from Hematodinium and tomato might not have direct analogs in Cladacopium or its coral host, the biological processes they represent are essential to cellular life and can provide valuable insights into the metabolic and genomic aspects of the Cladacopium symbiosis. Further research focused on Cladacopium and its host is necessary to establish more direct connections.\n",
        "\n",
        "final Result \n",
        "Which algorithm works best for your problem? Why? \n",
        " The Support Vector Machine (SVM) algorithm appears to be the most suitable choice for our problem based on several key factors. Firstly, the SVM demonstrated a cross-validated accuracy of approximately 72.38%, indicating a robust performance during the training phase. This suggests that the algorithm has effectively learned the underlying patterns in the data. Moreover, the SVM exhibited a high test set accuracy of 88.89%, signifying its ability to generalize well to unseen data.\n",
        "\n",
        "The identification of the top two significant genes, 'C0H419' and 'O05496', further supports the efficacy of the SVM in extracting relevant features that contribute to the classification task. This suggests that the SVM can discern important genetic markers associated with the classification of Cladocopium based on host coral species.\n",
        "\n",
        "Analyzing the classification report provides additional insights. The precision, recall, and F1-score metrics indicate a well-balanced performance, particularly in classifying the dominant class (0) with a high precision of 88% and perfect recall. While there is a lower recall for the minority class (1), it is essential to consider the specific context of the problem and the potential biological implications.\n",
        "\n",
        "In summary, the SVM demonstrates a strong overall performance, characterized by high accuracy, effective feature extraction, and a balanced classification approach. The choice of SVM is justified not only by its statistical performance but also by its ability to uncover biologically relevant features, making it a suitable algorithm for the classification of Cladocopium based on host coral species."
      ]
    }
  ],
  "metadata": {
    "colab": {
      "provenance": []
    },
    "kernelspec": {
      "display_name": "Python 3",
      "language": "python",
      "name": "python3"
    },
    "language_info": {
      "codemirror_mode": {
        "name": "ipython",
        "version": 3
      },
      "file_extension": ".py",
      "mimetype": "text/x-python",
      "name": "python",
      "nbconvert_exporter": "python",
      "pygments_lexer": "ipython3",
      "version": "3.9.13"
    }
  },
  "nbformat": 4,
  "nbformat_minor": 0
}
